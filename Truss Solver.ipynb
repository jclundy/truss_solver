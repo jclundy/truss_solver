{
 "cells": [
  {
   "cell_type": "code",
   "execution_count": 2,
   "metadata": {
    "collapsed": true
   },
   "outputs": [],
   "source": [
    "import numpy as np\n",
    "\n",
    "# can be 'PIN' or 'ROLLER'\n",
    "class Joint(object):\n",
    "    def __init__(self, id=0, x=0, y=0):\n",
    "        self.id=id\n",
    "        self.x=x\n",
    "        self.y=y\n",
    "\n",
    "# list of joints: dictionary {ID : {Joint}  }, \n",
    "# list of edges: tuples (A, B)    \n",
    "    \n",
    "class Truss(object):\n",
    "    def __init__(self, edgeList=[], joints=[], fixed_joint='', roller_joint=''):\n",
    "        self.edgeList = edgeList\n",
    "        self.joints = joints\n",
    "        self.fixed_joint = fixed_joint\n",
    "        self.roller_joint = roller_joint\n",
    "        \n",
    "        self.jointDict = {}\n",
    "        for joint in self.joints:\n",
    "            self.jointDict[joint.id] = joint\n",
    "        \n",
    "    "
   ]
  },
  {
   "cell_type": "code",
   "execution_count": 3,
   "metadata": {
    "collapsed": true
   },
   "outputs": [],
   "source": [
    "# truss solving function:\n",
    "# takes in:\n",
    "# TRUSS object (list of nodes, list of edges)\n",
    "# list of forces\n",
    "# AppliedForces : (JointID, magnitude, direction (in y direction))\n",
    "def solve_forces(appliedForces, truss):\n",
    "    numAppliedForces = len(appliedForces)\n",
    "    numJoints = len(truss.joints)\n",
    "    numReactions = 3 # 2 (Fx, Fy) at fixed joint, 1 (Fy) at roller\n",
    "    numEdges = len(truss.edgeList)\n",
    "    numEquations = numAppliedForces + numEdges + numReactions\n",
    "    print(numAppliedForces)\n",
    "    print(numJoints)\n",
    "    print(numReactions)\n",
    "    print(numEquations)\n",
    "    M = np.zeros((numEquations, numEquations))\n",
    "    #M system of equations to solve [<applied forces> .... <x forces in joints> <y forces in joints> ]\n",
    "    #F : vector of forces to solve for [<applied forces>, <forces in beams>, <reactions>]\n",
    "    \n",
    "    E = np.zeros((numEquations, 1)) #solution to system of equations M*F = E\n",
    "    #populate rows for  E \n",
    "    for i in range(numAppliedForces):\n",
    "        E[i] = appliedForces[i][1]\n",
    "        M[i][i] = 1\n",
    "\n",
    "    i = 0 \n",
    "    for i in range(numJoints):\n",
    "        joint = truss.joints[i]\n",
    "        jointId = joint.id\n",
    "        row = i*2 + numAppliedForces\n",
    "        print(row)\n",
    "        for j in range(len(appliedForces)):\n",
    "            col = j\n",
    "            if(appliedForces[j][0] == jointId):\n",
    "                M[row][col] = 1 # Force:(jointId, magnitude)\n",
    "        \n",
    "        for j in range(len(truss.edgeList)):\n",
    "            col = j+numAppliedForces\n",
    "            edge = truss.edgeList[j]\n",
    "            otherJointId = None\n",
    "            if(edge[0] == jointId):\n",
    "                otherJointId = edge[1]\n",
    "            elif(edge[1] == jointId):\n",
    "                otherJointId = edge[0]\n",
    "            if(otherJointId != None):\n",
    "                otherJoint = truss.jointDict[otherJointId]\n",
    "                x1 = joint.x\n",
    "                y1 = joint.y\n",
    "                x2 = otherJoint.x\n",
    "                y2 = otherJoint.y\n",
    "                dx = x2 - x1\n",
    "                dy = y2 - y1\n",
    "                \n",
    "                theta = np.abs(np.arctan(dy/dx))\n",
    "                x_multiplier = np.sign(dx) * np.cos(theta)\n",
    "                y_multiplier = np.sign(dy) * np.sin(theta)\n",
    "                \n",
    "                M[row][col] = y_multiplier\n",
    "                M[row+1][col] = x_multiplier\n",
    "        if(joint.id == truss.fixed_joint):\n",
    "            M[row][numEquations - 3] = 1 # reaction, assume in positive direction\n",
    "            M[row + 1][numEquations - 2] = 1 #y reaction, assume in positive direction\n",
    "        if(joint.id == truss.roller_joint):\n",
    "            M[row][numEquations - 1] = 1\n",
    "    \n",
    "    F = np.linalg.solve(M, E)\n",
    "    F = np.around(F,2)\n",
    "    return M, E, F"
   ]
  },
  {
   "cell_type": "code",
   "execution_count": 60,
   "metadata": {
    "collapsed": true
   },
   "outputs": [],
   "source": [
    "#joint_x_list = [0, 0.5, 1]\n",
    "#joint_y_list = [0, 0.866, 0]\n",
    "#jointIds = ['A', 'B', 'C']\n",
    "joint_x_list = [0, 1, 2, 3, 4]\n",
    "joint_y_list = [0, 1, 0, 1, 0]\n",
    "jointIds = ['A', 'B', 'C', 'D', 'E']\n",
    "jointList = []\n",
    "for i in range(len(jointIds)):\n",
    "    joint = Joint(jointIds[i],joint_x_list[i],joint_y_list[i]);\n",
    "    jointList.append(joint)\n",
    "\n",
    "edge_list = [('A', 'B'), ('B', 'C'), ('A', 'D'), ('D', 'E'), ('D', 'B'), ('E','C'), ('B', 'E')]\n",
    "\n",
    "truss = Truss(edge_list, jointList, 'A', 'E')\n",
    "\n",
    "applied_force_list = [('B', -100)] # 500 Newtons"
   ]
  },
  {
   "cell_type": "code",
   "execution_count": 61,
   "metadata": {},
   "outputs": [
    {
     "name": "stdout",
     "output_type": "stream",
     "text": [
      "1\n",
      "5\n",
      "3\n",
      "11\n",
      "1\n",
      "3\n",
      "5\n",
      "7\n",
      "9\n"
     ]
    }
   ],
   "source": [
    "M, E, F = solve_forces(applied_force_list, truss)"
   ]
  },
  {
   "cell_type": "code",
   "execution_count": 62,
   "metadata": {},
   "outputs": [
    {
     "name": "stdout",
     "output_type": "stream",
     "text": [
      "[[ 1.          0.          0.          0.          0.          0.          0.\n",
      "   0.          0.          0.          0.        ]\n",
      " [ 0.          0.70710678  0.          0.31622777  0.          0.          0.\n",
      "   0.          1.          0.          0.        ]\n",
      " [ 0.          0.70710678  0.          0.9486833   0.          0.          0.\n",
      "   0.          0.          1.          0.        ]\n",
      " [ 1.         -0.70710678 -0.70710678  0.          0.          0.          0.\n",
      "  -0.31622777  0.          0.          0.        ]\n",
      " [ 0.         -0.70710678  0.70710678  0.          0.          1.          0.\n",
      "   0.9486833   0.          0.          0.        ]\n",
      " [ 0.          0.          0.70710678  0.          0.          0.          0.\n",
      "   0.          0.          0.          0.        ]\n",
      " [ 0.          0.         -0.70710678  0.          0.          0.          1.\n",
      "   0.          0.          0.          0.        ]\n",
      " [ 0.          0.          0.         -0.31622777 -0.70710678  0.          0.\n",
      "   0.          0.          0.          0.        ]\n",
      " [ 0.          0.          0.         -0.9486833   0.70710678 -1.          0.\n",
      "   0.          0.          0.          0.        ]\n",
      " [ 0.          0.          0.          0.          0.70710678  0.          0.\n",
      "   0.31622777  0.          0.          1.        ]\n",
      " [ 0.          0.          0.          0.         -0.70710678  0.         -1.\n",
      "  -0.9486833   0.          0.          0.        ]]\n"
     ]
    }
   ],
   "source": [
    "print(M)"
   ]
  },
  {
   "cell_type": "code",
   "execution_count": 63,
   "metadata": {},
   "outputs": [
    {
     "name": "stdout",
     "output_type": "stream",
     "text": [
      "[[-100.  ]\n",
      " [-159.1 ]\n",
      " [   0.  ]\n",
      " [ 118.59]\n",
      " [ -53.03]\n",
      " [-150.  ]\n",
      " [  -0.  ]\n",
      " [  39.53]\n",
      " [  75.  ]\n",
      " [   0.  ]\n",
      " [  25.  ]]\n"
     ]
    }
   ],
   "source": [
    "print(F)"
   ]
  },
  {
   "cell_type": "code",
   "execution_count": 64,
   "metadata": {
    "collapsed": true
   },
   "outputs": [],
   "source": [
    "M = [\n",
    "    [1,     0,      0,      0,      0,      0,      0],\n",
    "    [0,     0.866,  0,      0,      0,      1,      0],\n",
    "    [0,     0.5,    0,      1,      1,      0,      0],\n",
    "    [-1,    -0.866, -0.866,  0,      0,      0,      0],\n",
    "    [0,     -0.5,   0.5,    0,      0,      0,      0],\n",
    "    [0,     0,      0.866, 0,      0,      0,      1],\n",
    "    [0,     0,      -0.5,   -1,     0,      0,      0],\n",
    "    ]\n",
    "E = np.zeros((7, 1))\n",
    "E[0] = 100"
   ]
  },
  {
   "cell_type": "code",
   "execution_count": 65,
   "metadata": {},
   "outputs": [
    {
     "name": "stdout",
     "output_type": "stream",
     "text": [
      "[[ 100.  ]\n",
      " [ -57.74]\n",
      " [ -57.74]\n",
      " [  28.87]\n",
      " [  -0.  ]\n",
      " [  50.  ]\n",
      " [  50.  ]]\n"
     ]
    }
   ],
   "source": [
    "F = np.linalg.solve(M, E)\n",
    "F = np.around(F,2)\n",
    "print(F)"
   ]
  },
  {
   "cell_type": "code",
   "execution_count": 66,
   "metadata": {},
   "outputs": [],
   "source": [
    "import operator\n",
    "def sort_by_x(list_of_nodes):\n",
    "    list_of_nodes.sort(key = operator.attrgetter('x'))\n"
   ]
  },
  {
   "cell_type": "code",
   "execution_count": 67,
   "metadata": {
    "collapsed": true
   },
   "outputs": [],
   "source": [
    "def getKey(item):\n",
    "    return item[1]\n",
    "\n",
    "def calculate_distance(start_joint, end_joint):\n",
    "    dx = end_joint.x - start_joint.x\n",
    "    dy = end_joint.y - start_joint.y\n",
    "    return np.abs(dx*dx + dy*dy)\n",
    "\n",
    "def sorted_list_of_nodes_by_distances(list_of_joints, start_joint):\n",
    "    distance_list = []\n",
    "    for joint in list_of_joints:\n",
    "        if(joint.id == start_joint.id):\n",
    "            continue\n",
    "        r = calculate_distance(start_joint, joint)\n",
    "        distance_list.append((joint.id, r))\n",
    "    return sorted(distance_list, key = getKey)"
   ]
  },
  {
   "cell_type": "code",
   "execution_count": 68,
   "metadata": {},
   "outputs": [],
   "source": [
    "def connect_nodes(id1, id2, connected_node_table, list_of_connections):\n",
    "    connected_node_table[id1].append(id2)\n",
    "    connected_node_table[id2].append(id1)\n",
    "    edge = (id1, id2)\n",
    "    list_of_connections.append(edge)\n",
    "    \n",
    "def build_oonnections(list_of_joints, dict_of_symmetric_joints, center_joint_id, pin_joint_id):\n",
    "    sort_by_x(list_of_joints)\n",
    "    \n",
    "    list_of_connections = []\n",
    "    connected_node_table = {}\n",
    "    #initialize table with empty lists\n",
    "    for joint in list_of_joints:\n",
    "        connected_node_table[joint.id] = []\n",
    "    \n",
    "    num_nodes = len(list_of_joints)\n",
    "    num_desired_connections = 2*num_nodes - 3\n",
    "    if(num_desired_connections < 3):\n",
    "        return\n",
    "    even_num = False\n",
    "    if(num_nodes % 2 == 0):\n",
    "        even_num = True\n",
    "    \n",
    "    index_start = 0\n",
    "    index_end = index_end = int((num_nodes - 1)/2)\n",
    "    if(even_num):\n",
    "        index_end = int(num_nodes - 2)/2\n",
    "    \n",
    "    index_center_node_start = index_end\n",
    "    index_center_node_end = int(index_end + 1)\n",
    "    if(even_num):\n",
    "        index_center_node_end = int(index_center_node_start + 2)\n",
    "    \n",
    "    print(index_center_node_end)\n",
    "    num_connections = 0\n",
    "    subset_of_nodes = list_of_joints[0:index_center_node_end]\n",
    "    \n",
    "    \n",
    "    if(even_num): #connect 2 center joints\n",
    "        joint1_id = list_of_joints[index_center_node_start].id\n",
    "        joint2_id = list_of_joints[index_center_node_start+1].id\n",
    "        connect_nodes(joint1_id, joint2_id, connected_node_table, list_of_connections)\n",
    "    else: #connect 2 joints closest to center joint\n",
    "        joint1_id = list_of_joints[index_center_node_start - 1].id\n",
    "        joint2_id = dict_of_symmetric_joints[joint1_id]\n",
    "        connect_nodes(joint1_id, joint2_id, connected_node_table, list_of_connections)\n",
    "\n",
    "    for node in subset_of_nodes:\n",
    "        list_of_nodes_by_distance = sorted_list_of_nodes_by_distances(subset_of_nodes, node)\n",
    "        closest_node_id = list_of_nodes_by_distance[0][0]\n",
    "        next_closest_node_id = list_of_nodes_by_distance[1][0]\n",
    "        # check if closest node already connected\n",
    "        if(closest_node_id not in connected_node_table[node.id]):\n",
    "            connect_nodes(node.id, closest_node_id, connected_node_table, list_of_connections)\n",
    "            #mirror the connection\n",
    "            mirror_id_1 = dict_of_symmetric_joints[node.id]\n",
    "            mirror_id_2 = dict_of_symmetric_joints[closest_node_id]\n",
    "            connect_nodes(mirror_id_1, mirror_id_2, connected_node_table, list_of_connections)\n",
    "        # check if next closest node is already connected \n",
    "        if(next_closest_node_id not in connected_node_table[node.id]):\n",
    "            connect_nodes(node.id, next_closest_node_id, connected_node_table, list_of_connections)\n",
    "            #mirror the connection\n",
    "            mirror_id_1 = dict_of_symmetric_joints[node.id]\n",
    "            mirror_id_2 = dict_of_symmetric_joints[next_closest_node_id]\n",
    "            connect_nodes(mirror_id_1, mirror_id_2, connected_node_table, list_of_connections)\n",
    "    \n",
    "    succesful = (len(list_of_connections) == num_desired_connections) \n",
    "    return list_of_connections, connected_node_table, succesful\n",
    "    "
   ]
  },
  {
   "cell_type": "code",
   "execution_count": 69,
   "metadata": {},
   "outputs": [
    {
     "name": "stdout",
     "output_type": "stream",
     "text": [
      "3\n"
     ]
    }
   ],
   "source": [
    "# test for build_connections function\n",
    "#[('A', 'B'), ('B', 'C'), ('A', 'D'), ('D', 'E'), ('D', 'B'), ('E','C'), ('B', 'E')]\n",
    "list_of_joints = jointList\n",
    "dict_of_symmetric_joints = {'A':'E', 'B':'D', 'C':'C', 'D':'B', 'E':'A'}\n",
    "center_joint_id = 'C'\n",
    "pin_joint_id = 'A'\n",
    "list_of_connections, connected_node_table, succesful = build_oonnections(list_of_joints, dict_of_symmetric_joints, center_joint_id, pin_joint_id)"
   ]
  },
  {
   "cell_type": "code",
   "execution_count": 70,
   "metadata": {},
   "outputs": [
    {
     "name": "stdout",
     "output_type": "stream",
     "text": [
      "True\n",
      "[('B', 'D'), ('A', 'B'), ('E', 'D'), ('A', 'C'), ('E', 'C'), ('B', 'C'), ('D', 'C')]\n",
      "{'A': ['B', 'C'], 'B': ['D', 'A', 'C'], 'C': ['A', 'E', 'B', 'D'], 'D': ['B', 'E', 'C'], 'E': ['D', 'C']}\n"
     ]
    }
   ],
   "source": [
    "print(succesful)\n",
    "print(list_of_connections)\n",
    "print(connected_node_table)"
   ]
  },
  {
   "cell_type": "code",
   "execution_count": null,
   "metadata": {
    "collapsed": true
   },
   "outputs": [],
   "source": []
  }
 ],
 "metadata": {
  "kernelspec": {
   "display_name": "Python 3",
   "language": "python",
   "name": "python3"
  },
  "language_info": {
   "codemirror_mode": {
    "name": "ipython",
    "version": 3
   },
   "file_extension": ".py",
   "mimetype": "text/x-python",
   "name": "python",
   "nbconvert_exporter": "python",
   "pygments_lexer": "ipython3",
   "version": "3.6.3"
  }
 },
 "nbformat": 4,
 "nbformat_minor": 2
}
